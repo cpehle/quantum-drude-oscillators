{
 "cells": [
  {
   "cell_type": "code",
   "execution_count": 2,
   "metadata": {
    "collapsed": false
   },
   "outputs": [],
   "source": [
    "%matplotlib inline\n",
    "import numpy as np\n",
    "import matplotlib.pyplot as plt"
   ]
  },
  {
   "cell_type": "code",
   "execution_count": 3,
   "metadata": {
    "collapsed": true
   },
   "outputs": [],
   "source": [
    "# phi_t(x) = sqrt(alpha) pi^(-1/4) exp(-alpha^2 x^2 / 2)\n",
    "def HarmonicOscillator(alpha):\n",
    "    class Oscillator(object):\n",
    "        @staticmethod\n",
    "        def local_energy(pos):\n",
    "            term = alpha**2 + (1 - alpha**4) * pos.dot(pos)\n",
    "            return term/2\n",
    "        \n",
    "        @staticmethod\n",
    "        def wavefunction(pos):\n",
    "            return np.sqrt(alpha) * np.exp(-alpha**2 * pos.dot(pos)/2)\n",
    "    return Oscillator"
   ]
  },
  {
   "cell_type": "code",
   "execution_count": 4,
   "metadata": {
    "collapsed": true
   },
   "outputs": [],
   "source": [
    "class VMC(object):\n",
    "    def __init__(self, nwalkers, dimension):\n",
    "        self.walkers = np.random.random((nwalkers, dimension))\n",
    "    \n",
    "    def step(self, dt):\n",
    "        energy = 0.0\n",
    "        for walker_i, walker in enumerate(self.walkers):\n",
    "            phi_before = self.wavefunction(walker)\n",
    "            energy_before = self.local_energy(walker)\n",
    "            \n",
    "            proposal = walker + np.random.normal() * dt\n",
    "            phi_after = self.wavefunction(proposal)\n",
    "            energy_after = self.local_energy(proposal)\n",
    "            \n",
    "            acceptance_probability = (phi_after/phi_before)**2\n",
    "            if acceptance_probability > np.random.random():\n",
    "                walker[:] = proposal\n",
    "                \n",
    "            energy += acceptance_probability*energy_after + (1-acceptance_probability)*energy_before\n",
    "        return energy/len(self.walkers)"
   ]
  },
  {
   "cell_type": "code",
   "execution_count": null,
   "metadata": {
    "collapsed": false
   },
   "outputs": [],
   "source": [
    "alphas = np.linspace(0.3,1.3,15)\n",
    "energies = []\n",
    "variances = []\n",
    "for alpha in alphas:\n",
    "    class SHO_VMC(VMC, HarmonicOscillator(alpha)): pass\n",
    "    vv = SHO_VMC(500, 1)\n",
    "    [vv.step(0.3) for ii in xrange(200)] # equilibrate\n",
    "    energy_samples = [vv.step(0.3) for ii in xrange(500)]\n",
    "    energies.append(np.mean(energy_samples))\n",
    "    variances.append(np.std(energy_samples))\n",
    "    print \".\","
   ]
  },
  {
   "cell_type": "code",
   "execution_count": null,
   "metadata": {
    "collapsed": false
   },
   "outputs": [],
   "source": [
    "plt.plot(alphas,energies)"
   ]
  },
  {
   "cell_type": "code",
   "execution_count": null,
   "metadata": {
    "collapsed": false,
    "scrolled": true
   },
   "outputs": [],
   "source": [
    "plt.plot(alphas, variances)"
   ]
  },
  {
   "cell_type": "markdown",
   "metadata": {},
   "source": [
    "### Reweighting\n",
    "\n",
    "After an equilibration run at a given set of parameters $\\vec a$, we have a set of configurations distributed according to the (square of the) trial wavefunction, at those parameter values.\n",
    "\n",
    "We would like to compute the average energy and its variance at some new set of parameters $\\vec a'$.\n",
    "\n",
    "To do so, we need to reweight each configuration $\\vec x$ by multiplying any observable at that configuration by $\\frac{\\phi_{a'}(\\vec x)^2}{\\phi_{a}(\\vec x)^2}$.\n",
    "\n",
    "Suppose we had $N$ samples at the original set of parameters. Then, after reweighting, the effective number of samples at the new set of parameters is given by\n",
    "\n",
    "$$\\frac{N_{eff}}{N} = \\frac{\\langle w \\rangle^2}{\\langle w^2 \\rangle}$$\n",
    "\n",
    "where $w(\\vec x) = \\frac{\\phi_{a'}(\\vec x)^2}{\\phi_{a}(\\vec x)^2}$"
   ]
  },
  {
   "cell_type": "code",
   "execution_count": 5,
   "metadata": {
    "collapsed": true
   },
   "outputs": [],
   "source": [
    "def reweight_samples(wavefunction_before, wavefunction_after, samples):\n",
    "    weights = []\n",
    "    for sample in samples:\n",
    "        phi_before = wavefunction_before(sample)\n",
    "        phi_after  = wavefunction_after(sample)\n",
    "        weight = (phi_after/phi_before)**2\n",
    "        weights.append(weight)\n",
    "    weights = np.array(weights)\n",
    "    def n_effective():\n",
    "        return len(samples)*np.mean(weights)**2/np.mean(weights**2)\n",
    "    return weights, n_effective()"
   ]
  },
  {
   "cell_type": "markdown",
   "metadata": {},
   "source": [
    "Let's try it out: first, generate 500 samples at $\\alpha=0.8$:"
   ]
  },
  {
   "cell_type": "code",
   "execution_count": 48,
   "metadata": {
    "collapsed": true
   },
   "outputs": [],
   "source": [
    "class SHO_VMC(VMC, HarmonicOscillator(0.8)): pass\n",
    "vv = SHO_VMC(500,1)\n",
    "for ii in xrange(200): \n",
    "    vv.step(0.3)"
   ]
  },
  {
   "cell_type": "markdown",
   "metadata": {},
   "source": [
    "Next, reweight these samples to different $\\alpha$'s. \n",
    "\n",
    "At each $\\alpha$, we compute the local energies of the old samples with new weights. From these, we can compute the mean and variance of the energy observable."
   ]
  },
  {
   "cell_type": "code",
   "execution_count": 60,
   "metadata": {
    "collapsed": false
   },
   "outputs": [],
   "source": [
    "def reweighted_energies(weights, local_energy_after, samples):\n",
    "    energies = []\n",
    "    for sample in samples:\n",
    "        energies.append(local_energy_after(sample))\n",
    "    energies = np.array(energies)\n",
    "    new_energies = len(energies)*energies*weights/np.sum(weights)\n",
    "    return new_energies\n",
    "    \n",
    "alphas = np.linspace(0.3,5.7,55)\n",
    "energy_means, energy_variances, n_effs = [],[],[]\n",
    "for alpha in alphas:\n",
    "    sho_after = HarmonicOscillator(alpha)\n",
    "    weights, n_eff = reweight_samples(SHO_VMC.wavefunction, sho_after.wavefunction, vv.walkers)\n",
    "    new_energies = reweighted_energies(weights, sho_after.local_energy, vv.walkers)\n",
    "    energy_means.append(np.mean(new_energies))\n",
    "    energy_variances.append(np.std(new_energies)**2)\n",
    "    n_effs.append(n_eff)"
   ]
  },
  {
   "cell_type": "markdown",
   "metadata": {},
   "source": [
    "Because of the variational principle and the fact that $\\alpha=1$ is the exact solution for this system, we see that the energy has a minimum and the variance drops to 0 at $\\alpha=1$. \n",
    "\n",
    "But because the samples are originally from $\\alpha=0.8$, we see that $N_{eff}$ has its maximum at that value."
   ]
  },
  {
   "cell_type": "code",
   "execution_count": 61,
   "metadata": {
    "collapsed": false
   },
   "outputs": [
    {
     "data": {
      "text/plain": [
       "<matplotlib.text.Text at 0x1162c7490>"
      ]
     },
     "execution_count": 61,
     "metadata": {},
     "output_type": "execute_result"
    },
    {
     "data": {
      "image/png": "[encoded data removed]",
      "text/plain": [
       "<matplotlib.figure.Figure at 0x115c2e690>"
      ]
     },
     "metadata": {},
     "output_type": "display_data"
    }
   ],
   "source": [
    "plt.subplot(311)\n",
    "plt.plot(alphas, energy_means, label=\"energies\")\n",
    "plt.ylabel(\"Energy mean\")\n",
    "plt.subplot(312)\n",
    "plt.plot(alphas, energy_variances)\n",
    "plt.ylabel(\"Energy variance\")\n",
    "plt.subplot(313)\n",
    "plt.plot(alphas, n_effs)\n",
    "plt.ylabel(\"$N_{eff}$\")\n",
    "plt.xlabel(\"$\\\\alpha$\")"
   ]
  },
  {
   "cell_type": "markdown",
   "metadata": {},
   "source": [
    "### Wavefunction optimization\n",
    "\n",
    "This idea of reweighting samples can be used to turn a stochastic optimization problem into a deterministic one. We want to find the set of parameters $\\vec a$ that minimize either the energy or the variance of the energy.\n",
    "\n",
    "To do so, we generate samples at some initial set of parameters $\\vec a'$. Now, holding these samples fixed, we solve the problem of minimizing the energy of just these samples, after reweighting.\n",
    "\n",
    "Thus, instead of generating new samples at each set of parameters $\\vec a$, we simply reweight the old samples, which is a smooth and deterministic problem.\n",
    "\n",
    "Having found the optimal $\\vec a$ for that set of samples, we generate a fresh set of samples at the new $\\vec a$ and optimize again, until we find a fixed-point of the process."
   ]
  },
  {
   "cell_type": "code",
   "execution_count": 66,
   "metadata": {
    "collapsed": false
   },
   "outputs": [],
   "source": [
    "def optimize_wavefunction(WavefunctionFactory, parameters_initial, n_samples=500, dimension=1):\n",
    "    wf_before = WavefunctionFactory(parameters_initial)\n",
    "    class WF_VMC(VMC, wf_before): pass\n",
    "    sampler = WF_VMC(n_samples,dimension)\n",
    "    for ii in xrange(300):\n",
    "        sampler.step(0.3)\n",
    "    \n",
    "    def objective_function(alpha):\n",
    "        wf_after = WavefunctionFactory(float(alpha))\n",
    "        weights, n_eff = reweight_samples(wf_before.wavefunction, wf_after.wavefunction, sampler.walkers)\n",
    "        new_energies = reweighted_energies(weights, wf_after.local_energy, sampler.walkers)\n",
    "        return new_energies - np.mean(new_energies)\n",
    "    \n",
    "    from scipy.optimize import leastsq\n",
    "    return leastsq(objective_function, parameters_initial)"
   ]
  },
  {
   "cell_type": "code",
   "execution_count": 68,
   "metadata": {
    "collapsed": false
   },
   "outputs": [
    {
     "data": {
      "text/plain": [
       "(array([ 0.70427414]), 1)"
      ]
     },
     "execution_count": 68,
     "metadata": {},
     "output_type": "execute_result"
    }
   ],
   "source": [
    "optimize_wavefunction(HarmonicOscillator, 0.3)"
   ]
  },
  {
   "cell_type": "code",
   "execution_count": 69,
   "metadata": {
    "collapsed": false
   },
   "outputs": [
    {
     "data": {
      "text/plain": [
       "(array([ 0.88458726]), 1)"
      ]
     },
     "execution_count": 69,
     "metadata": {},
     "output_type": "execute_result"
    }
   ],
   "source": [
    "optimize_wavefunction(HarmonicOscillator, 0.70427414)"
   ]
  },
  {
   "cell_type": "code",
   "execution_count": 70,
   "metadata": {
    "collapsed": false
   },
   "outputs": [
    {
     "data": {
      "text/plain": [
       "(array([ 0.95872417]), 1)"
      ]
     },
     "execution_count": 70,
     "metadata": {},
     "output_type": "execute_result"
    }
   ],
   "source": [
    "optimize_wavefunction(HarmonicOscillator, 0.88458726)"
   ]
  },
  {
   "cell_type": "code",
   "execution_count": 71,
   "metadata": {
    "collapsed": false
   },
   "outputs": [
    {
     "data": {
      "text/plain": [
       "(array([ 0.9859624]), 3)"
      ]
     },
     "execution_count": 71,
     "metadata": {},
     "output_type": "execute_result"
    }
   ],
   "source": [
    "optimize_wavefunction(HarmonicOscillator, 0.95872417)"
   ]
  },
  {
   "cell_type": "code",
   "execution_count": 72,
   "metadata": {
    "collapsed": false
   },
   "outputs": [
    {
     "data": {
      "text/plain": [
       "(array([ 0.99526321]), 3)"
      ]
     },
     "execution_count": 72,
     "metadata": {},
     "output_type": "execute_result"
    }
   ],
   "source": [
    "optimize_wavefunction(HarmonicOscillator, 0.9859624)"
   ]
  },
  {
   "cell_type": "code",
   "execution_count": 73,
   "metadata": {
    "collapsed": false
   },
   "outputs": [
    {
     "data": {
      "text/plain": [
       "(array([ 0.99841669]), 2)"
      ]
     },
     "execution_count": 73,
     "metadata": {},
     "output_type": "execute_result"
    }
   ],
   "source": [
    "optimize_wavefunction(HarmonicOscillator, 0.99526321)"
   ]
  },
  {
   "cell_type": "code",
   "execution_count": 74,
   "metadata": {
    "collapsed": false
   },
   "outputs": [
    {
     "data": {
      "text/plain": [
       "(array([ 0.9994719]), 3)"
      ]
     },
     "execution_count": 74,
     "metadata": {},
     "output_type": "execute_result"
    }
   ],
   "source": [
    "optimize_wavefunction(HarmonicOscillator, 0.99841669)"
   ]
  },
  {
   "cell_type": "code",
   "execution_count": 75,
   "metadata": {
    "collapsed": false
   },
   "outputs": [
    {
     "data": {
      "text/plain": [
       "(array([ 0.9998239]), 2)"
      ]
     },
     "execution_count": 75,
     "metadata": {},
     "output_type": "execute_result"
    }
   ],
   "source": [
    "optimize_wavefunction(HarmonicOscillator, 0.9994719)"
   ]
  },
  {
   "cell_type": "code",
   "execution_count": null,
   "metadata": {
    "collapsed": true
   },
   "outputs": [],
   "source": []
  }
 ],
 "metadata": {
  "kernelspec": {
   "display_name": "Python 2",
   "language": "python",
   "name": "python2"
  },
  "language_info": {
   "codemirror_mode": {
    "name": "ipython",
    "version": 2
   },
   "file_extension": ".py",
   "mimetype": "text/x-python",
   "name": "python",
   "nbconvert_exporter": "python",
   "pygments_lexer": "ipython2",
   "version": "2.7.10"
  }
 },
 "nbformat": 4,
 "nbformat_minor": 0
}
