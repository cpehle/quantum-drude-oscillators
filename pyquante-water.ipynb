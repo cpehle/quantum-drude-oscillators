{
 "cells": [
  {
   "cell_type": "code",
   "execution_count": 10,
   "metadata": {
    "collapsed": true
   },
   "outputs": [],
   "source": [
    "%matplotlib inline\n",
    "import numpy as np\n",
    "import matplotlib.pyplot as plt"
   ]
  },
  {
   "cell_type": "code",
   "execution_count": 11,
   "metadata": {
    "collapsed": true
   },
   "outputs": [],
   "source": [
    "import PyQuante\n",
    "from PyQuante.Molecule import Molecule"
   ]
  },
  {
   "cell_type": "code",
   "execution_count": 3,
   "metadata": {
    "collapsed": true
   },
   "outputs": [],
   "source": [
    "h2o = Molecule('H2O',\n",
    "                   [(8,  ( 0.00000000,     0.00000000,     0.04851804)),\n",
    "                    (1,  ( 0.75300223,     0.00000000,    -0.51923377)),\n",
    "                    (1,  (-0.75300223,     0.00000000,    -0.51923377))],\n",
    "                   units='Angstrom')"
   ]
  },
  {
   "cell_type": "code",
   "execution_count": 4,
   "metadata": {
    "collapsed": true
   },
   "outputs": [],
   "source": [
    "from PyQuante.hartree_fock import rhf"
   ]
  },
  {
   "cell_type": "code",
   "execution_count": 5,
   "metadata": {
    "collapsed": true
   },
   "outputs": [],
   "source": [
    "en, orbe, orbs = rhf(h2o)"
   ]
  },
  {
   "cell_type": "code",
   "execution_count": 6,
   "metadata": {
    "collapsed": false
   },
   "outputs": [
    {
     "name": "stdout",
     "output_type": "stream",
     "text": [
      "-76.0236134619\n"
     ]
    }
   ],
   "source": [
    "print en"
   ]
  },
  {
   "cell_type": "code",
   "execution_count": 20,
   "metadata": {
    "collapsed": false
   },
   "outputs": [
    {
     "data": {
      "image/png": "[encoded data removed]",
      "text/plain": [
       "<matplotlib.figure.Figure at 0x7f1c4f177f10>"
      ]
     },
     "metadata": {},
     "output_type": "display_data"
    }
   ],
   "source": [
    "def qdo_water_geometry():\n",
    "    # returns a 4x3 array of the qdo water frame in a standard reference frame\n",
    "    # in atomic units ie. in bohrs\n",
    "    bohr_radius = 0.529 # Angstroms\n",
    "    R_OH = 0.9572/bohr_radius # Angstroms -> bohrs\n",
    "    R_OM = 0.2667/bohr_radius # Angstroms -> bohrs\n",
    "    angle_HOH = 104.52 * np.pi/180 # degrees -> radians\n",
    "    \n",
    "    hydrogen_x = R_OH*np.sin(angle_HOH/2)\n",
    "    hydrogen_y = R_OH*np.cos(angle_HOH/2)\n",
    "    \n",
    "    pos = np.zeros((4,3)) # oxygen at 0,0,0\n",
    "    pos[1] = np.array([hydrogen_x,  -hydrogen_y, 0]) # first hydrogen below it and to the right\n",
    "    pos[2] = np.array([-hydrogen_x, -hydrogen_y, 0]) # second hydrogen below it and to the left\n",
    "    pos[3] = np.array([0, -R_OM, 0]) # virtual site directly below oxygen\n",
    "    \n",
    "    return pos\n",
    "p = qdo_water_geometry()\n",
    "plt.scatter(p[:,[0]], p[:,[1]])\n",
    "\n",
    "def qdo_water_dimer(U, r):\n",
    "    # takes a rotation matrix and a vector r\n",
    "    # returns a water dimer with:\n",
    "    # first water molecule in standard position\n",
    "    # second water molecule starts in standard position\n",
    "    # then rotated by U, then translated by r\n",
    "    assert np.allclose(U.dot(U.T), np.eye(3))\n",
    "    pos1 = qdo_water_geometry()\n",
    "    pos2 = np.array(r).reshape(1,3) + qdo_water_geometry().dot(U)\n",
    "    return np.vstack([pos1, pos2])\n",
    "\n",
    "def rotation_scan_matrix(theta):\n",
    "    st, ct = np.sin(theta), np.cos(theta)\n",
    "    return np.array([[ct, -st, 0],\n",
    "                    [st, ct, 0],\n",
    "                    [0,   0,  1]])"
   ]
  },
  {
   "cell_type": "code",
   "execution_count": 26,
   "metadata": {
    "collapsed": false
   },
   "outputs": [
    {
     "name": "stdout",
     "output_type": "stream",
     "text": [
      ". . . . . . . . . ."
     ]
    },
    {
     "data": {
      "text/plain": [
       "[<matplotlib.lines.Line2D at 0x7f1c4efd3d50>]"
      ]
     },
     "execution_count": 26,
     "metadata": {},
     "output_type": "execute_result"
    },
    {
     "name": "stdout",
     "output_type": "stream",
     "text": [
      "\n"
     ]
    },
    {
     "data": {
      "image/png": "[encoded data removed]",
      "text/plain": [
       "<matplotlib.figure.Figure at 0x7f1c4f18add0>"
      ]
     },
     "metadata": {},
     "output_type": "display_data"
    }
   ],
   "source": [
    "angles_coarse = np.linspace(-10, 130, 10)\n",
    "\n",
    "energies = []\n",
    "\n",
    "for angle in angles_coarse:\n",
    "    U = rotation_scan_matrix(angle * np.pi/180)\n",
    "    pp = qdo_water_dimer(U, [0, 4.0, 0])\n",
    "    \n",
    "    h2o_dimer = Molecule('H2Ox2',\n",
    "                   [(8,  pp[0]),\n",
    "                    (1,  pp[1]),\n",
    "                    (1,  pp[2]),\n",
    "                   (8, pp[4]),\n",
    "                   (1, pp[5]),\n",
    "                   (1, pp[6])],\n",
    "                   units='Bohr')\n",
    "    \n",
    "    en, orbe, orbs = rhf(h2o_dimer)\n",
    "    print \".\",\n",
    "    energies.append(en)\n",
    "    \n",
    "energies = np.array(energies)\n",
    "plt.plot(angles_coarse, energies)"
   ]
  },
  {
   "cell_type": "code",
   "execution_count": 28,
   "metadata": {
    "collapsed": true
   },
   "outputs": [],
   "source": [
    "def hf_of_dimer(_pp):\n",
    "    pp = _pp.reshape((8,3))\n",
    "    h2o_dimer = Molecule('H2Ox2',\n",
    "                   [(8,  pp[0]),\n",
    "                    (1,  pp[1]),\n",
    "                    (1,  pp[2]),\n",
    "                   (8, pp[4]),\n",
    "                   (1, pp[5]),\n",
    "                   (1, pp[6])],\n",
    "                   units='Bohr')\n",
    "    en, orbe, orbs = rhf(h2o_dimer)\n",
    "    return en\n",
    "\n",
    "    "
   ]
  },
  {
   "cell_type": "code",
   "execution_count": 29,
   "metadata": {
    "collapsed": false
   },
   "outputs": [
    {
     "name": "stdout",
     "output_type": "stream",
     "text": [
      ". . . . . . . . . .\n"
     ]
    }
   ],
   "source": [
    "scan = []\n",
    "unit_vector = np.array([0., 1., 0.])\n",
    "U = np.eye(3)\n",
    "xs = np.linspace(2.5,3.5,10)\n",
    "\n",
    "radial_energies = []\n",
    "for xx in xs:\n",
    "    dimer = qdo_water_dimer(U, xx*unit_vector)\n",
    "    radial_energies.append(hf_of_dimer(dimer))\n",
    "    print \".\","
   ]
  },
  {
   "cell_type": "code",
   "execution_count": 30,
   "metadata": {
    "collapsed": false
   },
   "outputs": [
    {
     "data": {
      "text/plain": [
       "[<matplotlib.lines.Line2D at 0x7f1c546a07d0>]"
      ]
     },
     "execution_count": 30,
     "metadata": {},
     "output_type": "execute_result"
    },
    {
     "data": {
      "image/png": "[encoded data removed]",
      "text/plain": [
       "<matplotlib.figure.Figure at 0x7f1c546a0410>"
      ]
     },
     "metadata": {},
     "output_type": "display_data"
    }
   ],
   "source": [
    "plt.plot(xs, radial_energies)"
   ]
  },
  {
   "cell_type": "code",
   "execution_count": 32,
   "metadata": {
    "collapsed": true
   },
   "outputs": [],
   "source": [
    "from PyQuante import SCF"
   ]
  },
  {
   "cell_type": "code",
   "execution_count": 38,
   "metadata": {
    "collapsed": false
   },
   "outputs": [
    {
     "name": "stdout",
     "output_type": "stream",
     "text": [
      "HF Result =  -1.11709942949\n"
     ]
    }
   ],
   "source": [
    "h2 = Molecule('H2',\n",
    "                 [(1,  (0.00000000,     0.00000000,     0.36628549)),\n",
    "                  (1,  (0.00000000,     0.00000000,    -0.36628549))],\n",
    "                 units='Angstrom')\n",
    "\n",
    "solver = SCF(h2,method=\"HF\",basis=\"sto-3g\")\n",
    "solver.iterate(iterations=10)\n",
    "print \"HF Result = \",solver.energy"
   ]
  },
  {
   "cell_type": "code",
   "execution_count": 40,
   "metadata": {
    "collapsed": false
   },
   "outputs": [
    {
     "name": "stdout",
     "output_type": "stream",
     "text": [
      "Final SVWN energy for system H2 is -1.135062\n"
     ]
    },
    {
     "data": {
      "text/plain": [
       "(-1.1350620737249464,\n",
       " array([-0.37591414,  0.07999681,  0.54834406,  1.00986562,  1.61159385,\n",
       "         1.61159385,  2.33291932,  2.55898602,  2.55898602,  4.14133359]),\n",
       " array([[  3.16466149e-01,   1.77035728e-01,   7.41539465e-01,\n",
       "           8.92828360e-01,   4.68393666e-16,   1.75855008e-16,\n",
       "           3.93438045e-01,  -6.34736278e-16,  -2.77551173e-17,\n",
       "           1.48948709e+00],\n",
       "        [  2.77079404e-01,   1.64499811e+00,  -6.73362373e-01,\n",
       "          -1.50544593e+00,  -7.12464376e-16,   7.70079169e-17,\n",
       "          -1.95863251e-01,   1.99126624e-16,   6.34877141e-18,\n",
       "           1.77949330e-01],\n",
       "        [  2.09069103e-17,  -2.60334026e-17,  -2.36675985e-16,\n",
       "           8.37574423e-17,   2.46616483e-01,   5.56736835e-01,\n",
       "           3.77491883e-16,   3.88005419e-01,  -7.85455572e-01,\n",
       "           9.98078838e-17],\n",
       "        [ -2.59789310e-19,   9.16505278e-17,  -1.07171720e-16,\n",
       "          -8.72305255e-17,   5.56736835e-01,  -2.46616483e-01,\n",
       "           9.74855017e-16,   7.85455572e-01,   3.88005419e-01,\n",
       "           6.70539598e-17],\n",
       "        [ -1.43974855e-02,   1.49569840e-02,  -4.08789090e-02,\n",
       "           2.60080068e-01,   3.25641382e-16,  -7.08433301e-17,\n",
       "           6.50295718e-01,  -1.09582698e-15,  -1.43496428e-17,\n",
       "          -1.60604866e+00],\n",
       "        [  3.16466148e-01,  -1.77035728e-01,   7.41539465e-01,\n",
       "          -8.92828359e-01,   2.70723157e-16,   1.21241601e-16,\n",
       "           3.93438034e-01,  -4.68766092e-16,  -9.65391197e-17,\n",
       "          -1.48948710e+00],\n",
       "        [  2.77079402e-01,  -1.64499811e+00,  -6.73362377e-01,\n",
       "           1.50544593e+00,   2.25248956e-16,  -3.46023296e-16,\n",
       "          -1.95863247e-01,   2.21313138e-16,   1.14863823e-16,\n",
       "          -1.77949329e-01],\n",
       "        [  2.00145776e-17,  -4.81891800e-18,  -4.50945455e-17,\n",
       "          -7.18717603e-18,   2.46616483e-01,   5.56736835e-01,\n",
       "          -8.59317040e-16,  -3.88005419e-01,   7.85455572e-01,\n",
       "          -1.01458691e-17],\n",
       "        [ -1.03401987e-17,   4.11802435e-17,   6.39913682e-19,\n",
       "          -5.78075061e-17,   5.56736835e-01,  -2.46616483e-01,\n",
       "          -1.66916299e-15,  -7.85455572e-01,  -3.88005419e-01,\n",
       "          -2.74717151e-17],\n",
       "        [  1.43974830e-02,   1.49569821e-02,   4.08789066e-02,\n",
       "           2.60080068e-01,  -3.53611561e-16,  -2.28598715e-16,\n",
       "          -6.50295729e-01,   1.17298357e-15,   1.98096544e-17,\n",
       "          -1.60604865e+00]]))"
      ]
     },
     "execution_count": 40,
     "metadata": {},
     "output_type": "execute_result"
    }
   ],
   "source": [
    "from PyQuante.dft import dft\n",
    "dft(h2)"
   ]
  },
  {
   "cell_type": "code",
   "execution_count": 41,
   "metadata": {
    "collapsed": true
   },
   "outputs": [],
   "source": [
    "li_uhf = SCF(h2,method='UHF')\n",
    "li_uhf.iterate()b"
   ]
  },
  {
   "cell_type": "code",
   "execution_count": 46,
   "metadata": {
    "collapsed": false
   },
   "outputs": [],
   "source": [
    "import PyQuante.MP as MP"
   ]
  },
  {
   "cell_type": "code",
   "execution_count": 49,
   "metadata": {
    "collapsed": false
   },
   "outputs": [],
   "source": [
    "hf = SCF(h2,method=\"HF\")\n",
    "hf.iterate()\n",
    "nclosed,nopen = h2.get_closedopen()\n",
    "nbf = len(hf.basis_set.get())\n",
    "emp2 = MP.MP2(hf.ERI,hf.solver.orbs,hf.solver.orbe,nclosed,nbf-nclosed)"
   ]
  },
  {
   "cell_type": "code",
   "execution_count": 50,
   "metadata": {
    "collapsed": false
   },
   "outputs": [
    {
     "data": {
      "text/plain": [
       "-1.1576654661016677"
      ]
     },
     "execution_count": 50,
     "metadata": {},
     "output_type": "execute_result"
    }
   ],
   "source": [
    "hf.energy + emp2"
   ]
  },
  {
   "cell_type": "code",
   "execution_count": null,
   "metadata": {
    "collapsed": true
   },
   "outputs": [],
   "source": []
  }
 ],
 "metadata": {
  "kernelspec": {
   "display_name": "Python 2",
   "language": "python",
   "name": "python2"
  },
  "language_info": {
   "codemirror_mode": {
    "name": "ipython",
    "version": 2
   },
   "file_extension": ".py",
   "mimetype": "text/x-python",
   "name": "python",
   "nbconvert_exporter": "python",
   "pygments_lexer": "ipython2",
   "version": "2.7.10"
  }
 },
 "nbformat": 4,
 "nbformat_minor": 0
}
